{
 "cells": [
  {
   "cell_type": "code",
   "execution_count": 1,
   "metadata": {
    "collapsed": true
   },
   "outputs": [],
   "source": [
    "import numpy as np\n",
    "import pandas as pd"
   ]
  },
  {
   "cell_type": "code",
   "execution_count": 2,
   "metadata": {
    "collapsed": false
   },
   "outputs": [
    {
     "ename": "SyntaxError",
     "evalue": "invalid syntax (<ipython-input-2-613a333cf61c>, line 16)",
     "output_type": "error",
     "traceback": [
      "\u001b[0;36m  File \u001b[0;32m\"<ipython-input-2-613a333cf61c>\"\u001b[0;36m, line \u001b[0;32m16\u001b[0m\n\u001b[0;31m    \"肺野に異常所見なし\":\"異常なし\"\u001b[0m\n\u001b[0m               ^\u001b[0m\n\u001b[0;31mSyntaxError\u001b[0m\u001b[0;31m:\u001b[0m invalid syntax\n"
     ]
    }
   ],
   "source": [
    "def set_convert_dict():\n",
    "    convert_dict = {\n",
    "        \"前回と著変なし\":None,\n",
    "        \"変化なし\":None,\n",
    "        \"CT上問題なし\":None,\n",
    "        \"手入力　部位\":\"\",\n",
    "        \"ペースメーカー植込み後\":\"デバイス植込後\",\n",
    "        \"ペースメーカー挿入後\":\"デバイス植込後\",\n",
    "        \"ペースメーカー埋込み後\":\"デバイス植込後\",\n",
    "        \"ペースメーカー植え込み後\":\"デバイス植込後\",\n",
    "        \"ペースメーカー挿入\":\"デバイス植込後\",\n",
    "        \"ICDあり\":\"デバイス植込後\",\n",
    "        \"異常所見なし\":\"異常なし\",\n",
    "        \"異常所見無し\":\"異常なし\",\n",
    "        \"正常、肺：異常所見なし\":\"異常なし\",\n",
    "        \"肺野に異常所見なし\":\"異常なし\",\n",
    "        \"肺野に異常なし\":\"異常なし\",\n",
    "        \"肺野に明らかな異常なし\":\"異常なし\",\n",
    "        \" \",\"\",\n",
    "        \"　\":\"\",\n",
    "        \"の疑い\":\"\",\n",
    "        \"疑い\":\"\",\n",
    "        \"手術後\":\"術後\"\n",
    "        \"胸膜ゆ着\":\"胸膜癒着\"\n",
    "        \"非定型抗酸菌症所見\":\"非定型抗酸菌\"\n",
    "    }\n",
    "    return convert_dict"
   ]
  },
  {
   "cell_type": "code",
   "execution_count": 10,
   "metadata": {
    "collapsed": false
   },
   "outputs": [
    {
     "name": "stdout",
     "output_type": "stream",
     "text": [
      "前回と著変なし\n",
      "None\n",
      "変化なし\n",
      "None\n",
      "CT上問題なし\n",
      "None\n",
      "手入力　部位\n",
      "nan\n"
     ]
    },
    {
     "ename": "TypeError",
     "evalue": "Can't convert 'float' object to str implicitly",
     "output_type": "error",
     "traceback": [
      "\u001b[0;31m---------------------------------------------------------------------------\u001b[0m",
      "\u001b[0;31mTypeError\u001b[0m                                 Traceback (most recent call last)",
      "\u001b[0;32m<ipython-input-10-529be9c392f7>\u001b[0m in \u001b[0;36m<module>\u001b[0;34m()\u001b[0m\n\u001b[1;32m      3\u001b[0m     \u001b[0mprint\u001b[0m\u001b[0;34m(\u001b[0m\u001b[0mbefore\u001b[0m\u001b[0;34m)\u001b[0m\u001b[0;34m\u001b[0m\u001b[0m\n\u001b[1;32m      4\u001b[0m     \u001b[0mprint\u001b[0m\u001b[0;34m(\u001b[0m\u001b[0mafter\u001b[0m\u001b[0;34m)\u001b[0m\u001b[0;34m\u001b[0m\u001b[0m\n\u001b[0;32m----> 5\u001b[0;31m     \u001b[0mtext\u001b[0m \u001b[0;34m=\u001b[0m \u001b[0mtext\u001b[0m\u001b[0;34m.\u001b[0m\u001b[0mreplace\u001b[0m\u001b[0;34m(\u001b[0m\u001b[0mbefore\u001b[0m\u001b[0;34m,\u001b[0m \u001b[0mafter\u001b[0m\u001b[0;34m)\u001b[0m\u001b[0;34m\u001b[0m\u001b[0m\n\u001b[0m\u001b[1;32m      6\u001b[0m \u001b[0mprint\u001b[0m\u001b[0;34m(\u001b[0m\u001b[0mtext\u001b[0m\u001b[0;34m)\u001b[0m\u001b[0;34m\u001b[0m\u001b[0m\n",
      "\u001b[0;31mTypeError\u001b[0m: Can't convert 'float' object to str implicitly"
     ]
    }
   ],
   "source": [
    "text = \"異常なし\"\n",
    "for before, after in zip(replace_df[\"replace_from\"], replace_df[\"replace_to\"]):\n",
    "    print(before)\n",
    "    print(after)\n",
    "    text = text.replace(before, after)\n",
    "print(text)"
   ]
  },
  {
   "cell_type": "code",
   "execution_count": null,
   "metadata": {
    "collapsed": true
   },
   "outputs": [],
   "source": []
  }
 ],
 "metadata": {
  "anaconda-cloud": {},
  "kernelspec": {
   "display_name": "Python [conda env:anaconda3-4.2.0]",
   "language": "python",
   "name": "conda-env-anaconda3-4.2.0-py"
  },
  "language_info": {
   "codemirror_mode": {
    "name": "ipython",
    "version": 3
   },
   "file_extension": ".py",
   "mimetype": "text/x-python",
   "name": "python",
   "nbconvert_exporter": "python",
   "pygments_lexer": "ipython3",
   "version": "3.5.2"
  }
 },
 "nbformat": 4,
 "nbformat_minor": 1
}
