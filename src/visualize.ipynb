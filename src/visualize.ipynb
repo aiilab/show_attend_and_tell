{
 "cells": [
  {
   "cell_type": "code",
   "execution_count": null,
   "metadata": {
    "collapsed": false
   },
   "outputs": [],
   "source": [
    "cd /root/userspace/public/JSRT/sakka/medical_image_attention/src/"
   ]
  },
  {
   "cell_type": "code",
   "execution_count": null,
   "metadata": {
    "collapsed": false,
    "scrolled": true
   },
   "outputs": [],
   "source": [
    "%matplotlib inline\n",
    "import numpy as np\n",
    "import matplotlib.pyplot as plt\n",
    "import pandas as pd\n",
    "import matplotlib.cm as cm\n",
    "from PIL import Image\n",
    "import gc\n",
    "import os\n",
    "import nltk\n",
    "nltk.download('punkt')\n",
    "from tqdm import tqdm\n",
    "import pickle\n",
    "import skimage.transform\n",
    "import torch\n",
    "import torch.nn as nn\n",
    "import torchvision.models as models\n",
    "import torchvision.transforms as transforms\n",
    "from torch.autograd import Variable\n",
    "from torch.nn.utils.rnn import  pack_padded_sequence\n",
    "\n",
    "from model import Decoder, EncoderResNet\n",
    "from kenshin_util import  to_variable, tensor2numpy, Vocabulary"
   ]
  },
  {
   "cell_type": "code",
   "execution_count": null,
   "metadata": {
    "collapsed": true
   },
   "outputs": [],
   "source": [
    "def rescale_feature(img):\n",
    "    img += abs(img.min())\n",
    "    img /= img.max()\n",
    "    return img"
   ]
  },
  {
   "cell_type": "code",
   "execution_count": null,
   "metadata": {
    "collapsed": true
   },
   "outputs": [],
   "source": [
    "def set_transform():\n",
    "    transform = transforms.Compose([\n",
    "        transforms.Resize((224,224)),\n",
    "        transforms.ToTensor(),\n",
    "        transforms.Normalize((0.485, 0.456, 0.406),\n",
    "                             (0.229, 0.224, 0.225))])\n",
    "    \n",
    "    return transform"
   ]
  },
  {
   "cell_type": "code",
   "execution_count": null,
   "metadata": {
    "collapsed": false
   },
   "outputs": [],
   "source": [
    "root_img_dir= \"/root/userspace/public/JSRT/sakka/medical_image_attention/image/jpg/\"\n",
    "#label_df = pd.read_csv(\"/root/userspace/public/JSRT/sakka/medical_image_attention/data/label/upsampling/image_freq_thresh_5_test.csv\")\n",
    "label_df = pd.read_csv(\"/root/userspace/public/JSRT/sakka/medical_image_attention/refactoring/label/image_freq_thresh_5_test.csv\")\n",
    "for i,path in enumerate(label_df[\"path\"]):\n",
    "    label_df.iloc[i][\"path\"] = root_img_dir + path\n",
    "print(len(label_df))\n",
    "label_df.head()"
   ]
  },
  {
   "cell_type": "markdown",
   "metadata": {},
   "source": [
    "# vocab, encoder, decoderのpath指定"
   ]
  },
  {
   "cell_type": "code",
   "execution_count": null,
   "metadata": {
    "collapsed": false
   },
   "outputs": [],
   "source": [
    "#vocab_path = \"/root/userspace/public/JSRT/sakka/medical_image_attention/data/vocab/vocab_freq_thresh_5.pkl\"\n",
    "vocab_path = \"/root/userspace/public/JSRT/sakka/medical_image_attention/refactoring/vocab/vocab_freq_thresh_5.pkl\"\n",
    "vocab = pickle.load(open(vocab_path, \"rb\"))\n",
    "\n",
    "# Encoder\n",
    "encoder_model = EncoderResNet()\n",
    "#encoder_model_path = \"/root/userspace/public/JSRT/sakka/medical_image_attention/data/model/end_to_end/upsampling/encoder_freq5_each_word_100_balance.pth\"\n",
    "encoder_model_path = \"/root/userspace/public/JSRT/sakka/medical_image_attention/refactoring/model/encoder_freq5.pth\"\n",
    "encoder_model = nn.DataParallel(encoder_model)\n",
    "encoder_model.load_state_dict(torch.load(encoder_model_path))\n",
    "\n",
    "\n",
    "# model setting\n",
    "vis_dim = 2048\n",
    "vis_num = 196\n",
    "#embed_dim = len(vocab)\n",
    "embed_dim = 125\n",
    "hidden_dim = 256\n",
    "#vocab_size = len(vocab)\n",
    "vocab_size = 125\n",
    "num_layers = 1\n",
    "dropout_ratio = 1.0\n",
    "\n",
    "decoder_model = Decoder(vis_dim=vis_dim,\n",
    "                vis_num=vis_num, \n",
    "                embed_dim=embed_dim,\n",
    "                hidden_dim=hidden_dim, \n",
    "                vocab_size=vocab_size, \n",
    "                num_layers=num_layers,\n",
    "                dropout_ratio=dropout_ratio)\n",
    "\n",
    "decoder_model = nn.DataParallel(decoder_model)\n",
    "\n",
    "#decoder_model_path = \"/root/userspace/public/JSRT/sakka/medical_image_attention/data/model/end_to_end/upsampling/decoder_freq5_each_word_100_balance.pth\"\n",
    "decoder_model_path = \"/root/userspace/public/JSRT/sakka/medical_image_attention/refactoring/model/decoder_freq5.pth\"\n",
    "decoder_model.load_state_dict(torch.load(decoder_model_path))\n",
    "\n",
    "device = torch.device(\"cuda\" if torch.cuda.is_available() else \"cpu\")\n",
    "print(\"DEVICE: {}\".format(device))\n",
    "\n",
    "encoder_model = encoder_model.to(device)\n",
    "encoder_model.eval()\n",
    "decoder_model = decoder_model.to(device)\n",
    "decoder_model.eval()"
   ]
  },
  {
   "cell_type": "code",
   "execution_count": null,
   "metadata": {
    "collapsed": false
   },
   "outputs": [],
   "source": [
    "# split character leve\n",
    "opinion_lst = list(label_df[\"caption\"])    \n",
    "name_lst = []\n",
    "for opinion in opinion_lst:\n",
    "    name = \"\"\n",
    "    for char in opinion:\n",
    "        name += \"{} \".format(char)\n",
    "    name_lst.append(name)\n",
    " \n",
    "# initialize\n",
    "name_lst = name_lst\n",
    "img_path_lst = list(label_df[\"path\"])\n",
    "names_lst = []\n",
    "captions_lst = []\n",
    "alphas_lst = []\n",
    "transform = set_transform()\n",
    "rm_path_cnt = 0\n",
    "\n",
    "with torch.no_grad():\n",
    "    for img_path, name in tqdm(zip(img_path_lst, name_lst)):\n",
    "        if os.path.exists(img_path):\n",
    "            img = Image.open(img_path).convert(\"RGB\")\n",
    "            img = transform(img)\n",
    "            img = to_variable(img)\n",
    "            fea = encoder_model(img.unsqueeze(0))\n",
    "            fea = fea.view(fea.size(0), 2048, 196).transpose(1,2)\n",
    "\n",
    "            ids, weights = decoder_model.module.sample(fea)\n",
    "            names_lst.append(name)\n",
    "            captions_lst.append(ids)\n",
    "            alphas_lst.append(weights)\n",
    "        else:\n",
    "            rm_path_cnt += 1\n",
    "            \n",
    "print(\"Not exist path: {0}\".format(rm_path_cnt))"
   ]
  },
  {
   "cell_type": "code",
   "execution_count": null,
   "metadata": {
    "collapsed": false
   },
   "outputs": [],
   "source": [
    "print(\"name: {}\".format(names_lst[0]))\n",
    "print(\"caption: {}\".format(captions_lst[0]))\n",
    "print(\"alphas: {}\".format(np.array(alphas_lst[0][1]).shape))"
   ]
  },
  {
   "cell_type": "code",
   "execution_count": null,
   "metadata": {
    "collapsed": true
   },
   "outputs": [],
   "source": [
    "def decode_captions(captions, idx_to_word):\n",
    "    N, D = captions.shape\n",
    "    decoded = []\n",
    "    for idx in range(N):\n",
    "        words = []\n",
    "        for wid in range(D):\n",
    "            word = idx_to_word[captions[idx, wid]]\n",
    "            if word == '<end>':\n",
    "                break\n",
    "            words.append(word)\n",
    "        decoded.append(words)\n",
    "    return decoded"
   ]
  },
  {
   "cell_type": "code",
   "execution_count": null,
   "metadata": {
    "collapsed": true
   },
   "outputs": [],
   "source": [
    "def attention_visualization(img_path, caption, alphas):\n",
    "    image = Image.open(img_path).convert(\"RGB\")\n",
    "    image = image.resize((224, 224))\n",
    "    plt.figure(figsize=(12, 12))\n",
    "    plt.subplot(4,5,1)\n",
    "    plt.text(0, 1, \"<start>\" , color='black', backgroundcolor='white', fontsize=8)\n",
    "    plt.imshow(image)\n",
    "    plt.axis('off')\n",
    "    \n",
    "    words = caption\n",
    "    total_alp = np.zeros((14, 14))\n",
    "    for t in range(len(words)):\n",
    "        if words[t] == \"<end>\":\n",
    "            break\n",
    "        if t > 14:\n",
    "            break\n",
    "        plt.subplot(4, 5, t+2)\n",
    "        plt.text(0, 1, '%s'%(words[t]) , color='black', backgroundcolor='white', fontsize=14)\n",
    "        plt.imshow(image)\n",
    "\n",
    "        alp_curr = alphas[t, :].view(14, 14)\n",
    "        total_alp += alp_curr\n",
    "        alp_img = skimage.transform.pyramid_expand(alp_curr.numpy(), upscale=16, sigma=20)\n",
    "        plt.imshow(alp_img, alpha=0.5)\n",
    "        plt.axis('off')\n",
    "    \n",
    "    plt.figure()\n",
    "    plt.imshow(image)\n",
    "    total_alp = skimage.transform.pyramid_expand(total_alp, upscale=16, sigma=20)\n",
    "    plt.imshow(total_alp, alpha=0.5)\n",
    "    plt.show()"
   ]
  },
  {
   "cell_type": "code",
   "execution_count": null,
   "metadata": {
    "collapsed": true
   },
   "outputs": [],
   "source": [
    "def get_result(alphas_lst, captions_lst, img_path_lst, vocab, idx):\n",
    "    alps = torch.cat(alphas_lst[idx][1:], 0)\n",
    "    alps += abs(alps.min())\n",
    "    alps /= alps.max()\n",
    "    cap = decode_captions(captions_lst[idx].data.cpu().numpy().reshape(1, -1), vocab.idx2word)[0]\n",
    "    print(\"Prediction : {}\".format(\" \".join(cap)))\n",
    "    attention_visualization(img_path_lst[idx], cap, alps.data.cpu())"
   ]
  },
  {
   "cell_type": "code",
   "execution_count": null,
   "metadata": {
    "collapsed": false,
    "scrolled": false
   },
   "outputs": [],
   "source": [
    "plt.rcParams[\"font.family\"] = \"IPAexGothic\"\n",
    "test_id = 21\n",
    "print(\"ID: {}\".format(test_id))\n",
    "print(\"Answer     : {}\".format(names_lst[test_id]))\n",
    "get_result(alphas_lst, captions_lst, img_path_lst, vocab, test_id)"
   ]
  },
  {
   "cell_type": "code",
   "execution_count": null,
   "metadata": {
    "collapsed": true
   },
   "outputs": [],
   "source": []
  }
 ],
 "metadata": {
  "kernelspec": {
   "display_name": "Python [default]",
   "language": "python",
   "name": "python3"
  },
  "language_info": {
   "codemirror_mode": {
    "name": "ipython",
    "version": 3
   },
   "file_extension": ".py",
   "mimetype": "text/x-python",
   "name": "python",
   "nbconvert_exporter": "python",
   "pygments_lexer": "ipython3",
   "version": "3.5.4"
  }
 },
 "nbformat": 4,
 "nbformat_minor": 2
}
