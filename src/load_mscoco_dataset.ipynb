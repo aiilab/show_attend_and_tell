{
 "cells": [
  {
   "cell_type": "code",
   "execution_count": null,
   "metadata": {
    "collapsed": true
   },
   "outputs": [],
   "source": [
    "%matplotlib inline\n",
    "import os\n",
    "import numpy as np\n",
    "import pandas as pd\n",
    "import matplotlib.pyplot as plt\n",
    "import json\n",
    "from PIL import Image\n",
    "import glob\n",
    "import torch\n",
    "from torch.utils import data\n",
    "import torchvision.datasets\n",
    "import torchvision.transforms"
   ]
  },
  {
   "cell_type": "code",
   "execution_count": null,
   "metadata": {
    "collapsed": false,
    "scrolled": true
   },
   "outputs": [],
   "source": [
    "annotations = json.load(open(\"../data/annotations/captions_val2014.json\", \"r\"))\n",
    "print(annotations.keys())\n",
    "print(\"image info: {}\".format(annotations[\"images\"][10]))\n",
    "print(\"annotation (caption): {}\".format(annotations[\"annotations\"][10]))"
   ]
  },
  {
   "cell_type": "code",
   "execution_count": null,
   "metadata": {
    "collapsed": true
   },
   "outputs": [],
   "source": [
    "name2id = {}\n",
    "\n",
    "for i in range(len(annotations[\"images\"])):\n",
    "    name = annotations[\"images\"][i][\"file_name\"]\n",
    "    img_id = annotations[\"images\"][i][\"id\"]\n",
    "    name2id[name] = img_id"
   ]
  },
  {
   "cell_type": "code",
   "execution_count": null,
   "metadata": {
    "collapsed": true
   },
   "outputs": [],
   "source": [
    "id2cap = {}\n",
    "\n",
    "for i in range(len(annotations[\"annotations\"])):\n",
    "    img_id = annotations[\"annotations\"][i][\"image_id\"]\n",
    "    caption = annotations[\"annotations\"][i][\"caption\"]\n",
    "    id2cap[img_id] = caption"
   ]
  },
  {
   "cell_type": "code",
   "execution_count": null,
   "metadata": {
    "collapsed": false
   },
   "outputs": [],
   "source": [
    "root_img_dirc = \"../data/images/val2014/\"\n",
    "\n",
    "img_path_lst = glob.glob(root_img_dirc + \"*.jpg\")\n",
    "print(len(img_path_lst))\n",
    "print(img_path_lst[0])"
   ]
  },
  {
   "cell_type": "code",
   "execution_count": null,
   "metadata": {
    "collapsed": false
   },
   "outputs": [],
   "source": [
    "img = Image.open(img_path_lst[0]).convert(\"RGB\")\n",
    "plt.imshow(img)"
   ]
  },
  {
   "cell_type": "code",
   "execution_count": null,
   "metadata": {
    "collapsed": false
   },
   "outputs": [],
   "source": [
    "img_id = name2id[\"COCO_val2014_000000113126.jpg\"]\n",
    "id2cap[img_id]"
   ]
  },
  {
   "cell_type": "markdown",
   "metadata": {},
   "source": [
    "# dataset"
   ]
  },
  {
   "cell_type": "code",
   "execution_count": null,
   "metadata": {
    "collapsed": false
   },
   "outputs": [],
   "source": [
    "dataset_dictlst = {\"file_name\":[], \"caption\":[]}\n",
    "\n",
    "for i in range(len(annotations[\"images\"])): \n",
    "    file_name = annotations[\"images\"][i][\"file_name\"]\n",
    "    if os.path.exists(root_img_dirc+file_name):\n",
    "        dataset_dictlst[\"file_name\"].append(file_name)\n",
    "\n",
    "        img_id = name2id[file_name]\n",
    "        caption = id2cap[img_id]\n",
    "        dataset_dictlst[\"caption\"].append(caption)\n",
    "    \n",
    "dataset_df = pd.DataFrame(dataset_dictlst)\n",
    "dataset_df.head()"
   ]
  },
  {
   "cell_type": "code",
   "execution_count": null,
   "metadata": {
    "collapsed": true
   },
   "outputs": [],
   "source": [
    "# train:test = 9:1に分割して保存\n",
    "from sklearn.model_selection import train_test_split\n",
    "\n",
    "dataset_df = dataset_df.sample(frac=1, random_state=10).reset_index(drop=True)\n",
    "\n",
    "split_index = int(len(dataset_df)*0.9)\n",
    "train_df = dataset_df[:split_index]\n",
    "test_df = dataset_df[split_index:]"
   ]
  },
  {
   "cell_type": "code",
   "execution_count": null,
   "metadata": {
    "collapsed": false
   },
   "outputs": [],
   "source": [
    "print(len(train_df))\n",
    "train_df.head()"
   ]
  },
  {
   "cell_type": "code",
   "execution_count": null,
   "metadata": {
    "collapsed": false
   },
   "outputs": [],
   "source": [
    "print(len(test_df))\n",
    "test_df.head()"
   ]
  },
  {
   "cell_type": "code",
   "execution_count": null,
   "metadata": {
    "collapsed": true
   },
   "outputs": [],
   "source": [
    "train_df.to_csv(\"../data/train.csv\", index=False)\n",
    "test_df.to_csv(\"../data/test.csv\", index=False)"
   ]
  },
  {
   "cell_type": "code",
   "execution_count": null,
   "metadata": {
    "collapsed": true
   },
   "outputs": [],
   "source": []
  }
 ],
 "metadata": {
  "anaconda-cloud": {},
  "kernelspec": {
   "display_name": "Python [default]",
   "language": "python",
   "name": "python3"
  },
  "language_info": {
   "codemirror_mode": {
    "name": "ipython",
    "version": 3
   },
   "file_extension": ".py",
   "mimetype": "text/x-python",
   "name": "python",
   "nbconvert_exporter": "python",
   "pygments_lexer": "ipython3",
   "version": "3.5.2"
  }
 },
 "nbformat": 4,
 "nbformat_minor": 2
}
